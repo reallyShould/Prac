{
 "cells": [
  {
   "cell_type": "code",
   "execution_count": 2,
   "metadata": {},
   "outputs": [],
   "source": [
    "import pandas as pd\n",
    "import methods as monkey\n",
    "import statistics as stat\n",
    "import matplotlib.pyplot as plt\n",
    "import sklearn\n",
    "from sklearn.cluster import KMeans\n",
    "import numpy as np"
   ]
  },
  {
   "cell_type": "code",
   "execution_count": 3,
   "metadata": {},
   "outputs": [],
   "source": [
    "exl = pd.read_csv ('weight-height.csv')\n",
    "df = pd.DataFrame(exl)"
   ]
  },
  {
   "cell_type": "code",
   "execution_count": 4,
   "metadata": {},
   "outputs": [
    {
     "data": {
      "text/html": [
       "<div>\n",
       "<style scoped>\n",
       "    .dataframe tbody tr th:only-of-type {\n",
       "        vertical-align: middle;\n",
       "    }\n",
       "\n",
       "    .dataframe tbody tr th {\n",
       "        vertical-align: top;\n",
       "    }\n",
       "\n",
       "    .dataframe thead th {\n",
       "        text-align: right;\n",
       "    }\n",
       "</style>\n",
       "<table border=\"1\" class=\"dataframe\">\n",
       "  <thead>\n",
       "    <tr style=\"text-align: right;\">\n",
       "      <th></th>\n",
       "      <th>Gender</th>\n",
       "      <th>Height</th>\n",
       "      <th>Weight</th>\n",
       "    </tr>\n",
       "  </thead>\n",
       "  <tbody>\n",
       "    <tr>\n",
       "      <th>0</th>\n",
       "      <td>Male</td>\n",
       "      <td>73.847017</td>\n",
       "      <td>241.893563</td>\n",
       "    </tr>\n",
       "    <tr>\n",
       "      <th>1</th>\n",
       "      <td>Male</td>\n",
       "      <td>68.781904</td>\n",
       "      <td>162.310473</td>\n",
       "    </tr>\n",
       "    <tr>\n",
       "      <th>2</th>\n",
       "      <td>Male</td>\n",
       "      <td>74.110105</td>\n",
       "      <td>212.740856</td>\n",
       "    </tr>\n",
       "    <tr>\n",
       "      <th>3</th>\n",
       "      <td>Male</td>\n",
       "      <td>71.730978</td>\n",
       "      <td>220.042470</td>\n",
       "    </tr>\n",
       "    <tr>\n",
       "      <th>4</th>\n",
       "      <td>Male</td>\n",
       "      <td>69.881796</td>\n",
       "      <td>206.349801</td>\n",
       "    </tr>\n",
       "  </tbody>\n",
       "</table>\n",
       "</div>"
      ],
      "text/plain": [
       "  Gender     Height      Weight\n",
       "0   Male  73.847017  241.893563\n",
       "1   Male  68.781904  162.310473\n",
       "2   Male  74.110105  212.740856\n",
       "3   Male  71.730978  220.042470\n",
       "4   Male  69.881796  206.349801"
      ]
     },
     "execution_count": 4,
     "metadata": {},
     "output_type": "execute_result"
    }
   ],
   "source": [
    "df.head()"
   ]
  },
  {
   "attachments": {},
   "cell_type": "markdown",
   "metadata": {},
   "source": [
    "1"
   ]
  },
  {
   "cell_type": "code",
   "execution_count": 5,
   "metadata": {},
   "outputs": [
    {
     "data": {
      "text/html": [
       "<div>\n",
       "<style scoped>\n",
       "    .dataframe tbody tr th:only-of-type {\n",
       "        vertical-align: middle;\n",
       "    }\n",
       "\n",
       "    .dataframe tbody tr th {\n",
       "        vertical-align: top;\n",
       "    }\n",
       "\n",
       "    .dataframe thead th {\n",
       "        text-align: right;\n",
       "    }\n",
       "</style>\n",
       "<table border=\"1\" class=\"dataframe\">\n",
       "  <thead>\n",
       "    <tr style=\"text-align: right;\">\n",
       "      <th></th>\n",
       "      <th>Gender</th>\n",
       "      <th>Height</th>\n",
       "      <th>Weight</th>\n",
       "    </tr>\n",
       "  </thead>\n",
       "  <tbody>\n",
       "    <tr>\n",
       "      <th>0</th>\n",
       "      <td>Male</td>\n",
       "      <td>73.847017</td>\n",
       "      <td>241.893563</td>\n",
       "    </tr>\n",
       "    <tr>\n",
       "      <th>1</th>\n",
       "      <td>Male</td>\n",
       "      <td>68.781904</td>\n",
       "      <td>162.310473</td>\n",
       "    </tr>\n",
       "    <tr>\n",
       "      <th>2</th>\n",
       "      <td>Male</td>\n",
       "      <td>74.110105</td>\n",
       "      <td>212.740856</td>\n",
       "    </tr>\n",
       "    <tr>\n",
       "      <th>3</th>\n",
       "      <td>Male</td>\n",
       "      <td>71.730978</td>\n",
       "      <td>220.042470</td>\n",
       "    </tr>\n",
       "    <tr>\n",
       "      <th>4</th>\n",
       "      <td>Male</td>\n",
       "      <td>69.881796</td>\n",
       "      <td>206.349801</td>\n",
       "    </tr>\n",
       "    <tr>\n",
       "      <th>...</th>\n",
       "      <td>...</td>\n",
       "      <td>...</td>\n",
       "      <td>...</td>\n",
       "    </tr>\n",
       "    <tr>\n",
       "      <th>9995</th>\n",
       "      <td>Female</td>\n",
       "      <td>66.172652</td>\n",
       "      <td>136.777454</td>\n",
       "    </tr>\n",
       "    <tr>\n",
       "      <th>9996</th>\n",
       "      <td>Female</td>\n",
       "      <td>67.067155</td>\n",
       "      <td>170.867906</td>\n",
       "    </tr>\n",
       "    <tr>\n",
       "      <th>9997</th>\n",
       "      <td>Female</td>\n",
       "      <td>63.867992</td>\n",
       "      <td>128.475319</td>\n",
       "    </tr>\n",
       "    <tr>\n",
       "      <th>9998</th>\n",
       "      <td>Female</td>\n",
       "      <td>69.034243</td>\n",
       "      <td>163.852461</td>\n",
       "    </tr>\n",
       "    <tr>\n",
       "      <th>9999</th>\n",
       "      <td>Female</td>\n",
       "      <td>61.944246</td>\n",
       "      <td>113.649103</td>\n",
       "    </tr>\n",
       "  </tbody>\n",
       "</table>\n",
       "<p>10000 rows × 3 columns</p>\n",
       "</div>"
      ],
      "text/plain": [
       "      Gender     Height      Weight\n",
       "0       Male  73.847017  241.893563\n",
       "1       Male  68.781904  162.310473\n",
       "2       Male  74.110105  212.740856\n",
       "3       Male  71.730978  220.042470\n",
       "4       Male  69.881796  206.349801\n",
       "...      ...        ...         ...\n",
       "9995  Female  66.172652  136.777454\n",
       "9996  Female  67.067155  170.867906\n",
       "9997  Female  63.867992  128.475319\n",
       "9998  Female  69.034243  163.852461\n",
       "9999  Female  61.944246  113.649103\n",
       "\n",
       "[10000 rows x 3 columns]"
      ]
     },
     "execution_count": 5,
     "metadata": {},
     "output_type": "execute_result"
    }
   ],
   "source": [
    "df.drop_duplicates()"
   ]
  },
  {
   "attachments": {},
   "cell_type": "markdown",
   "metadata": {},
   "source": [
    "2"
   ]
  },
  {
   "cell_type": "code",
   "execution_count": 6,
   "metadata": {},
   "outputs": [
    {
     "name": "stderr",
     "output_type": "stream",
     "text": [
      "C:\\Users\\reall\\AppData\\Local\\Temp\\ipykernel_11616\\2084105494.py:4: SettingWithCopyWarning: \n",
      "A value is trying to be set on a copy of a slice from a DataFrame\n",
      "\n",
      "See the caveats in the documentation: https://pandas.pydata.org/pandas-docs/stable/user_guide/indexing.html#returning-a-view-versus-a-copy\n",
      "  heigh[i] *= 2.54\n"
     ]
    },
    {
     "data": {
      "text/plain": [
       "0       187.571423\n",
       "1       174.706036\n",
       "2       188.239668\n",
       "3       182.196685\n",
       "4       177.499761\n",
       "           ...    \n",
       "9995    168.078536\n",
       "9996    170.350573\n",
       "9997    162.224700\n",
       "9998    175.346978\n",
       "9999    157.338385\n",
       "Name: Height, Length: 10000, dtype: float64"
      ]
     },
     "execution_count": 6,
     "metadata": {},
     "output_type": "execute_result"
    }
   ],
   "source": [
    "heigh = df['Height']\n",
    "\n",
    "for i in range(len(heigh)):\n",
    "    heigh[i] *= 2.54\n",
    "\n",
    "heigh"
   ]
  },
  {
   "cell_type": "code",
   "execution_count": 7,
   "metadata": {},
   "outputs": [
    {
     "name": "stderr",
     "output_type": "stream",
     "text": [
      "C:\\Users\\reall\\AppData\\Local\\Temp\\ipykernel_11616\\4394176.py:4: SettingWithCopyWarning: \n",
      "A value is trying to be set on a copy of a slice from a DataFrame\n",
      "\n",
      "See the caveats in the documentation: https://pandas.pydata.org/pandas-docs/stable/user_guide/indexing.html#returning-a-view-versus-a-copy\n",
      "  weight[i] /= 2.205\n"
     ]
    },
    {
     "data": {
      "text/plain": [
       "0       109.702296\n",
       "1        73.610192\n",
       "2        96.481114\n",
       "3        99.792504\n",
       "4        93.582676\n",
       "           ...    \n",
       "9995     62.030591\n",
       "9996     77.491114\n",
       "9997     58.265451\n",
       "9998     74.309506\n",
       "9999     51.541543\n",
       "Name: Weight, Length: 10000, dtype: float64"
      ]
     },
     "execution_count": 7,
     "metadata": {},
     "output_type": "execute_result"
    }
   ],
   "source": [
    "weight = df['Weight']\n",
    "\n",
    "for i in range(len(heigh)):\n",
    "    weight[i] /= 2.205\n",
    "\n",
    "weight\n",
    "\n"
   ]
  },
  {
   "cell_type": "code",
   "execution_count": 8,
   "metadata": {},
   "outputs": [
    {
     "data": {
      "text/html": [
       "<div>\n",
       "<style scoped>\n",
       "    .dataframe tbody tr th:only-of-type {\n",
       "        vertical-align: middle;\n",
       "    }\n",
       "\n",
       "    .dataframe tbody tr th {\n",
       "        vertical-align: top;\n",
       "    }\n",
       "\n",
       "    .dataframe thead th {\n",
       "        text-align: right;\n",
       "    }\n",
       "</style>\n",
       "<table border=\"1\" class=\"dataframe\">\n",
       "  <thead>\n",
       "    <tr style=\"text-align: right;\">\n",
       "      <th></th>\n",
       "      <th>Gender</th>\n",
       "      <th>Height</th>\n",
       "      <th>Weight</th>\n",
       "    </tr>\n",
       "  </thead>\n",
       "  <tbody>\n",
       "    <tr>\n",
       "      <th>0</th>\n",
       "      <td>Male</td>\n",
       "      <td>187.571423</td>\n",
       "      <td>109.702296</td>\n",
       "    </tr>\n",
       "    <tr>\n",
       "      <th>1</th>\n",
       "      <td>Male</td>\n",
       "      <td>174.706036</td>\n",
       "      <td>73.610192</td>\n",
       "    </tr>\n",
       "    <tr>\n",
       "      <th>2</th>\n",
       "      <td>Male</td>\n",
       "      <td>188.239668</td>\n",
       "      <td>96.481114</td>\n",
       "    </tr>\n",
       "    <tr>\n",
       "      <th>3</th>\n",
       "      <td>Male</td>\n",
       "      <td>182.196685</td>\n",
       "      <td>99.792504</td>\n",
       "    </tr>\n",
       "    <tr>\n",
       "      <th>4</th>\n",
       "      <td>Male</td>\n",
       "      <td>177.499761</td>\n",
       "      <td>93.582676</td>\n",
       "    </tr>\n",
       "  </tbody>\n",
       "</table>\n",
       "</div>"
      ],
      "text/plain": [
       "  Gender      Height      Weight\n",
       "0   Male  187.571423  109.702296\n",
       "1   Male  174.706036   73.610192\n",
       "2   Male  188.239668   96.481114\n",
       "3   Male  182.196685   99.792504\n",
       "4   Male  177.499761   93.582676"
      ]
     },
     "execution_count": 8,
     "metadata": {},
     "output_type": "execute_result"
    }
   ],
   "source": [
    "gender = df['Gender']\n",
    "dfEdited = pd.DataFrame({'Gender':gender,'Height':heigh, 'Weight': weight})\n",
    "dfEdited.head()"
   ]
  },
  {
   "attachments": {},
   "cell_type": "markdown",
   "metadata": {},
   "source": [
    "3"
   ]
  },
  {
   "cell_type": "code",
   "execution_count": 9,
   "metadata": {},
   "outputs": [
    {
     "data": {
      "text/html": [
       "<div>\n",
       "<style scoped>\n",
       "    .dataframe tbody tr th:only-of-type {\n",
       "        vertical-align: middle;\n",
       "    }\n",
       "\n",
       "    .dataframe tbody tr th {\n",
       "        vertical-align: top;\n",
       "    }\n",
       "\n",
       "    .dataframe thead th {\n",
       "        text-align: right;\n",
       "    }\n",
       "</style>\n",
       "<table border=\"1\" class=\"dataframe\">\n",
       "  <thead>\n",
       "    <tr style=\"text-align: right;\">\n",
       "      <th></th>\n",
       "      <th>Gender</th>\n",
       "      <th>Height</th>\n",
       "      <th>Weight</th>\n",
       "    </tr>\n",
       "  </thead>\n",
       "  <tbody>\n",
       "    <tr>\n",
       "      <th>0</th>\n",
       "      <td>Male</td>\n",
       "      <td>187.571423</td>\n",
       "      <td>109.702296</td>\n",
       "    </tr>\n",
       "    <tr>\n",
       "      <th>1</th>\n",
       "      <td>Male</td>\n",
       "      <td>174.706036</td>\n",
       "      <td>73.610192</td>\n",
       "    </tr>\n",
       "    <tr>\n",
       "      <th>2</th>\n",
       "      <td>Male</td>\n",
       "      <td>188.239668</td>\n",
       "      <td>96.481114</td>\n",
       "    </tr>\n",
       "    <tr>\n",
       "      <th>3</th>\n",
       "      <td>Male</td>\n",
       "      <td>182.196685</td>\n",
       "      <td>99.792504</td>\n",
       "    </tr>\n",
       "    <tr>\n",
       "      <th>4</th>\n",
       "      <td>Male</td>\n",
       "      <td>177.499761</td>\n",
       "      <td>93.582676</td>\n",
       "    </tr>\n",
       "    <tr>\n",
       "      <th>...</th>\n",
       "      <td>...</td>\n",
       "      <td>...</td>\n",
       "      <td>...</td>\n",
       "    </tr>\n",
       "    <tr>\n",
       "      <th>4995</th>\n",
       "      <td>Male</td>\n",
       "      <td>174.904559</td>\n",
       "      <td>80.331543</td>\n",
       "    </tr>\n",
       "    <tr>\n",
       "      <th>4996</th>\n",
       "      <td>Male</td>\n",
       "      <td>175.192494</td>\n",
       "      <td>72.238199</td>\n",
       "    </tr>\n",
       "    <tr>\n",
       "      <th>4997</th>\n",
       "      <td>Male</td>\n",
       "      <td>170.215039</td>\n",
       "      <td>90.338050</td>\n",
       "    </tr>\n",
       "    <tr>\n",
       "      <th>4998</th>\n",
       "      <td>Male</td>\n",
       "      <td>181.756605</td>\n",
       "      <td>84.311070</td>\n",
       "    </tr>\n",
       "    <tr>\n",
       "      <th>4999</th>\n",
       "      <td>Male</td>\n",
       "      <td>178.693775</td>\n",
       "      <td>90.205448</td>\n",
       "    </tr>\n",
       "  </tbody>\n",
       "</table>\n",
       "<p>5000 rows × 3 columns</p>\n",
       "</div>"
      ],
      "text/plain": [
       "     Gender      Height      Weight\n",
       "0      Male  187.571423  109.702296\n",
       "1      Male  174.706036   73.610192\n",
       "2      Male  188.239668   96.481114\n",
       "3      Male  182.196685   99.792504\n",
       "4      Male  177.499761   93.582676\n",
       "...     ...         ...         ...\n",
       "4995   Male  174.904559   80.331543\n",
       "4996   Male  175.192494   72.238199\n",
       "4997   Male  170.215039   90.338050\n",
       "4998   Male  181.756605   84.311070\n",
       "4999   Male  178.693775   90.205448\n",
       "\n",
       "[5000 rows x 3 columns]"
      ]
     },
     "execution_count": 9,
     "metadata": {},
     "output_type": "execute_result"
    }
   ],
   "source": [
    "dfMale = dfEdited[dfEdited['Gender'] == 'Male'] \n",
    "dfMale"
   ]
  },
  {
   "cell_type": "code",
   "execution_count": 10,
   "metadata": {},
   "outputs": [
    {
     "data": {
      "text/html": [
       "<div>\n",
       "<style scoped>\n",
       "    .dataframe tbody tr th:only-of-type {\n",
       "        vertical-align: middle;\n",
       "    }\n",
       "\n",
       "    .dataframe tbody tr th {\n",
       "        vertical-align: top;\n",
       "    }\n",
       "\n",
       "    .dataframe thead th {\n",
       "        text-align: right;\n",
       "    }\n",
       "</style>\n",
       "<table border=\"1\" class=\"dataframe\">\n",
       "  <thead>\n",
       "    <tr style=\"text-align: right;\">\n",
       "      <th></th>\n",
       "      <th>Gender</th>\n",
       "      <th>Height</th>\n",
       "      <th>Weight</th>\n",
       "    </tr>\n",
       "  </thead>\n",
       "  <tbody>\n",
       "    <tr>\n",
       "      <th>5000</th>\n",
       "      <td>Female</td>\n",
       "      <td>149.633259</td>\n",
       "      <td>46.298561</td>\n",
       "    </tr>\n",
       "    <tr>\n",
       "      <th>5001</th>\n",
       "      <td>Female</td>\n",
       "      <td>165.684232</td>\n",
       "      <td>64.084273</td>\n",
       "    </tr>\n",
       "    <tr>\n",
       "      <th>5002</th>\n",
       "      <td>Female</td>\n",
       "      <td>160.957270</td>\n",
       "      <td>59.429208</td>\n",
       "    </tr>\n",
       "    <tr>\n",
       "      <th>5003</th>\n",
       "      <td>Female</td>\n",
       "      <td>163.779193</td>\n",
       "      <td>58.127669</td>\n",
       "    </tr>\n",
       "    <tr>\n",
       "      <th>5004</th>\n",
       "      <td>Female</td>\n",
       "      <td>156.954464</td>\n",
       "      <td>58.857781</td>\n",
       "    </tr>\n",
       "    <tr>\n",
       "      <th>...</th>\n",
       "      <td>...</td>\n",
       "      <td>...</td>\n",
       "      <td>...</td>\n",
       "    </tr>\n",
       "    <tr>\n",
       "      <th>9995</th>\n",
       "      <td>Female</td>\n",
       "      <td>168.078536</td>\n",
       "      <td>62.030591</td>\n",
       "    </tr>\n",
       "    <tr>\n",
       "      <th>9996</th>\n",
       "      <td>Female</td>\n",
       "      <td>170.350573</td>\n",
       "      <td>77.491114</td>\n",
       "    </tr>\n",
       "    <tr>\n",
       "      <th>9997</th>\n",
       "      <td>Female</td>\n",
       "      <td>162.224700</td>\n",
       "      <td>58.265451</td>\n",
       "    </tr>\n",
       "    <tr>\n",
       "      <th>9998</th>\n",
       "      <td>Female</td>\n",
       "      <td>175.346978</td>\n",
       "      <td>74.309506</td>\n",
       "    </tr>\n",
       "    <tr>\n",
       "      <th>9999</th>\n",
       "      <td>Female</td>\n",
       "      <td>157.338385</td>\n",
       "      <td>51.541543</td>\n",
       "    </tr>\n",
       "  </tbody>\n",
       "</table>\n",
       "<p>5000 rows × 3 columns</p>\n",
       "</div>"
      ],
      "text/plain": [
       "      Gender      Height     Weight\n",
       "5000  Female  149.633259  46.298561\n",
       "5001  Female  165.684232  64.084273\n",
       "5002  Female  160.957270  59.429208\n",
       "5003  Female  163.779193  58.127669\n",
       "5004  Female  156.954464  58.857781\n",
       "...      ...         ...        ...\n",
       "9995  Female  168.078536  62.030591\n",
       "9996  Female  170.350573  77.491114\n",
       "9997  Female  162.224700  58.265451\n",
       "9998  Female  175.346978  74.309506\n",
       "9999  Female  157.338385  51.541543\n",
       "\n",
       "[5000 rows x 3 columns]"
      ]
     },
     "execution_count": 10,
     "metadata": {},
     "output_type": "execute_result"
    }
   ],
   "source": [
    "dfFemale = dfEdited[dfEdited['Gender'] == 'Female'] \n",
    "dfFemale"
   ]
  },
  {
   "cell_type": "code",
   "execution_count": 11,
   "metadata": {},
   "outputs": [
    {
     "name": "stdout",
     "output_type": "stream",
     "text": [
      "161.82028495269967\n",
      "6.848561400043237\n",
      "137.82835864574665\n",
      "186.40954809981702\n",
      "Height    186.409548\n",
      "Weight     91.717557\n",
      "Name: 1.0, dtype: float64\n"
     ]
    },
    {
     "name": "stderr",
     "output_type": "stream",
     "text": [
      "C:\\Users\\reall\\AppData\\Local\\Temp\\ipykernel_11616\\2104551985.py:5: FutureWarning: The default value of numeric_only in DataFrame.quantile is deprecated. In a future version, it will default to False. Select only valid columns or specify the value of numeric_only to silence this warning.\n",
      "  print(dfFemale.quantile(1))\n"
     ]
    }
   ],
   "source": [
    "print(stat.mean(dfFemale['Height']))\n",
    "print(stat.stdev(dfFemale['Height']))\n",
    "print(min(dfFemale['Height']))\n",
    "print(max(dfFemale['Height']))\n",
    "print(dfFemale.quantile(1))"
   ]
  },
  {
   "cell_type": "code",
   "execution_count": 12,
   "metadata": {},
   "outputs": [
    {
     "name": "stdout",
     "output_type": "stream",
     "text": [
      "175.32691860179224\n",
      "7.272940060798043\n",
      "148.35353852664448\n",
      "200.6568055598296\n",
      "Height    200.656806\n",
      "Weight    122.444308\n",
      "Name: 1.0, dtype: float64\n"
     ]
    },
    {
     "name": "stderr",
     "output_type": "stream",
     "text": [
      "C:\\Users\\reall\\AppData\\Local\\Temp\\ipykernel_11616\\2552700668.py:5: FutureWarning: The default value of numeric_only in DataFrame.quantile is deprecated. In a future version, it will default to False. Select only valid columns or specify the value of numeric_only to silence this warning.\n",
      "  print(dfMale.quantile(1))\n"
     ]
    }
   ],
   "source": [
    "print(stat.mean(dfMale['Height']))\n",
    "print(stat.stdev(dfMale['Height']))\n",
    "print(min(dfMale['Height']))\n",
    "print(max(dfMale['Height']))\n",
    "print(dfMale.quantile(1))"
   ]
  },
  {
   "attachments": {},
   "cell_type": "markdown",
   "metadata": {},
   "source": [
    "4"
   ]
  },
  {
   "cell_type": "code",
   "execution_count": 13,
   "metadata": {},
   "outputs": [
    {
     "data": {
      "text/plain": [
       "(array([  1.,   0.,   0.,   0.,   0.,   0.,   0.,   1.,   0.,   0.,   1.,\n",
       "          2.,   0.,   4.,   1.,   0.,   3.,   3.,   4.,   4.,   1.,   3.,\n",
       "          4.,   4.,   7.,   5.,   5.,   5.,   7.,   9.,  10.,   9.,   4.,\n",
       "         12.,  12.,   8.,  14.,  14.,  20.,  21.,  22.,  18.,  11.,  19.,\n",
       "         27.,  27.,  40.,  36.,  44.,  43.,  36.,  44.,  39.,  46.,  59.,\n",
       "         45.,  51.,  56.,  63.,  58.,  70.,  60.,  67.,  85.,  82.,  89.,\n",
       "         84.,  93.,  79., 101.,  93., 102.,  96., 106.,  83.,  73., 106.,\n",
       "        111., 105., 100.,  79., 105.,  97.,  83.,  88.,  74.,  74., 103.,\n",
       "         71.,  63.,  91.,  76.,  75.,  65.,  71.,  77.,  79.,  74.,  63.,\n",
       "         54.,  56.,  52.,  46.,  33.,  44.,  29.,  36.,  31.,  25.,  27.,\n",
       "         31.,  25.,  26.,  25.,  17.,  19.,  22.,  10.,  14.,  12.,   7.,\n",
       "          8.,   9.,   5.,   6.,   8.,   3.,   4.,   6.,   2.,   2.,   7.,\n",
       "          4.,   4.,   4.,   2.,   2.,   0.,   2.,   1.,   0.,   0.,   0.,\n",
       "          1.,   0.,   0.,   2.,   1.,   0.,   1.]),\n",
       " array([148.35353853, 148.70222697, 149.05091542, 149.39960387,\n",
       "        149.74829231, 150.09698076, 150.44566921, 150.79435765,\n",
       "        151.1430461 , 151.49173455, 151.840423  , 152.18911144,\n",
       "        152.53779989, 152.88648834, 153.23517678, 153.58386523,\n",
       "        153.93255368, 154.28124212, 154.62993057, 154.97861902,\n",
       "        155.32730746, 155.67599591, 156.02468436, 156.37337281,\n",
       "        156.72206125, 157.0707497 , 157.41943815, 157.76812659,\n",
       "        158.11681504, 158.46550349, 158.81419193, 159.16288038,\n",
       "        159.51156883, 159.86025727, 160.20894572, 160.55763417,\n",
       "        160.90632261, 161.25501106, 161.60369951, 161.95238796,\n",
       "        162.3010764 , 162.64976485, 162.9984533 , 163.34714174,\n",
       "        163.69583019, 164.04451864, 164.39320708, 164.74189553,\n",
       "        165.09058398, 165.43927242, 165.78796087, 166.13664932,\n",
       "        166.48533776, 166.83402621, 167.18271466, 167.53140311,\n",
       "        167.88009155, 168.22878   , 168.57746845, 168.92615689,\n",
       "        169.27484534, 169.62353379, 169.97222223, 170.32091068,\n",
       "        170.66959913, 171.01828757, 171.36697602, 171.71566447,\n",
       "        172.06435292, 172.41304136, 172.76172981, 173.11041826,\n",
       "        173.4591067 , 173.80779515, 174.1564836 , 174.50517204,\n",
       "        174.85386049, 175.20254894, 175.55123738, 175.89992583,\n",
       "        176.24861428, 176.59730272, 176.94599117, 177.29467962,\n",
       "        177.64336807, 177.99205651, 178.34074496, 178.68943341,\n",
       "        179.03812185, 179.3868103 , 179.73549875, 180.08418719,\n",
       "        180.43287564, 180.78156409, 181.13025253, 181.47894098,\n",
       "        181.82762943, 182.17631787, 182.52500632, 182.87369477,\n",
       "        183.22238322, 183.57107166, 183.91976011, 184.26844856,\n",
       "        184.617137  , 184.96582545, 185.3145139 , 185.66320234,\n",
       "        186.01189079, 186.36057924, 186.70926768, 187.05795613,\n",
       "        187.40664458, 187.75533302, 188.10402147, 188.45270992,\n",
       "        188.80139837, 189.15008681, 189.49877526, 189.84746371,\n",
       "        190.19615215, 190.5448406 , 190.89352905, 191.24221749,\n",
       "        191.59090594, 191.93959439, 192.28828283, 192.63697128,\n",
       "        192.98565973, 193.33434818, 193.68303662, 194.03172507,\n",
       "        194.38041352, 194.72910196, 195.07779041, 195.42647886,\n",
       "        195.7751673 , 196.12385575, 196.4725442 , 196.82123264,\n",
       "        197.16992109, 197.51860954, 197.86729798, 198.21598643,\n",
       "        198.56467488, 198.91336333, 199.26205177, 199.61074022,\n",
       "        199.95942867, 200.30811711, 200.65680556]),\n",
       " <BarContainer object of 150 artists>)"
      ]
     },
     "execution_count": 13,
     "metadata": {},
     "output_type": "execute_result"
    },
    {
     "data": {
      "image/png": "[encoded data removed]",
      "text/plain": [
       "<Figure size 640x480 with 1 Axes>"
      ]
     },
     "metadata": {},
     "output_type": "display_data"
    }
   ],
   "source": [
    "plt.hist(dfMale['Height'], bins=150, edgecolor='black')"
   ]
  },
  {
   "cell_type": "code",
   "execution_count": 14,
   "metadata": {},
   "outputs": [
    {
     "data": {
      "text/plain": [
       "(array([  1.,   0.,   0.,   0.,   1.,   0.,   1.,   0.,   1.,   1.,   2.,\n",
       "          0.,   2.,   0.,   1.,   3.,   1.,   1.,   2.,   2.,   2.,   7.,\n",
       "          5.,   3.,   5.,  10.,  12.,   5.,   5.,   6.,  11.,  16.,  14.,\n",
       "         11.,  18.,  16.,  17.,  14.,  28.,  26.,  24.,  37.,  34.,  40.,\n",
       "         37.,  40.,  36.,  56.,  56.,  58.,  59.,  68.,  72.,  61.,  84.,\n",
       "         65.,  77.,  82.,  96.,  94.,  97.,  97., 100.,  90.,  88., 104.,\n",
       "        101.,  99., 102., 105., 113., 108., 107., 109.,  77., 102., 111.,\n",
       "         95.,  96., 103.,  86.,  88.,  96.,  91.,  80.,  72.,  88.,  64.,\n",
       "         78.,  69.,  66.,  54.,  65.,  48.,  52.,  43.,  37.,  33.,  30.,\n",
       "         39.,  33.,  22.,  25.,  20.,  18.,  21.,  20.,  14.,   9.,  16.,\n",
       "         14.,  11.,   9.,   9.,   7.,   1.,   3.,   4.,   1.,   4.,   3.,\n",
       "          5.,   4.,   2.,   1.,   0.,   1.,   1.,   1.,   1.,   3.,   1.,\n",
       "          1.,   1.,   2.,   0.,   2.,   0.,   0.,   0.,   0.,   0.,   0.,\n",
       "          0.,   0.,   0.,   0.,   0.,   0.,   1.]),\n",
       " array([ 51.20314714,  51.67808821,  52.15302928,  52.62797035,\n",
       "         53.10291142,  53.57785249,  54.05279356,  54.52773464,\n",
       "         55.00267571,  55.47761678,  55.95255785,  56.42749892,\n",
       "         56.90243999,  57.37738106,  57.85232213,  58.3272632 ,\n",
       "         58.80220427,  59.27714534,  59.75208641,  60.22702748,\n",
       "         60.70196855,  61.17690962,  61.65185069,  62.12679176,\n",
       "         62.60173283,  63.0766739 ,  63.55161497,  64.02655604,\n",
       "         64.50149711,  64.97643819,  65.45137926,  65.92632033,\n",
       "         66.4012614 ,  66.87620247,  67.35114354,  67.82608461,\n",
       "         68.30102568,  68.77596675,  69.25090782,  69.72584889,\n",
       "         70.20078996,  70.67573103,  71.1506721 ,  71.62561317,\n",
       "         72.10055424,  72.57549531,  73.05043638,  73.52537745,\n",
       "         74.00031852,  74.47525959,  74.95020067,  75.42514174,\n",
       "         75.90008281,  76.37502388,  76.84996495,  77.32490602,\n",
       "         77.79984709,  78.27478816,  78.74972923,  79.2246703 ,\n",
       "         79.69961137,  80.17455244,  80.64949351,  81.12443458,\n",
       "         81.59937565,  82.07431672,  82.54925779,  83.02419886,\n",
       "         83.49913993,  83.974081  ,  84.44902207,  84.92396315,\n",
       "         85.39890422,  85.87384529,  86.34878636,  86.82372743,\n",
       "         87.2986685 ,  87.77360957,  88.24855064,  88.72349171,\n",
       "         89.19843278,  89.67337385,  90.14831492,  90.62325599,\n",
       "         91.09819706,  91.57313813,  92.0480792 ,  92.52302027,\n",
       "         92.99796134,  93.47290241,  93.94784348,  94.42278455,\n",
       "         94.89772562,  95.3726667 ,  95.84760777,  96.32254884,\n",
       "         96.79748991,  97.27243098,  97.74737205,  98.22231312,\n",
       "         98.69725419,  99.17219526,  99.64713633, 100.1220774 ,\n",
       "        100.59701847, 101.07195954, 101.54690061, 102.02184168,\n",
       "        102.49678275, 102.97172382, 103.44666489, 103.92160596,\n",
       "        104.39654703, 104.8714881 , 105.34642918, 105.82137025,\n",
       "        106.29631132, 106.77125239, 107.24619346, 107.72113453,\n",
       "        108.1960756 , 108.67101667, 109.14595774, 109.62089881,\n",
       "        110.09583988, 110.57078095, 111.04572202, 111.52066309,\n",
       "        111.99560416, 112.47054523, 112.9454863 , 113.42042737,\n",
       "        113.89536844, 114.37030951, 114.84525058, 115.32019166,\n",
       "        115.79513273, 116.2700738 , 116.74501487, 117.21995594,\n",
       "        117.69489701, 118.16983808, 118.64477915, 119.11972022,\n",
       "        119.59466129, 120.06960236, 120.54454343, 121.0194845 ,\n",
       "        121.49442557, 121.96936664, 122.44430771]),\n",
       " <BarContainer object of 150 artists>)"
      ]
     },
     "execution_count": 14,
     "metadata": {},
     "output_type": "execute_result"
    },
    {
     "data": {
      "image/png": "[encoded data removed]",
      "text/plain": [
       "<Figure size 640x480 with 1 Axes>"
      ]
     },
     "metadata": {},
     "output_type": "display_data"
    }
   ],
   "source": [
    "plt.hist(dfMale['Weight'], bins=150, edgecolor='black')"
   ]
  },
  {
   "cell_type": "code",
   "execution_count": 15,
   "metadata": {},
   "outputs": [
    {
     "data": {
      "text/plain": [
       "(array([  1.,   0.,   1.,   0.,   1.,   0.,   1.,   0.,   1.,   0.,   1.,\n",
       "          2.,   1.,   1.,   7.,   0.,   0.,   4.,   2.,   7.,   3.,   5.,\n",
       "          7.,   7.,   5.,   6.,   5.,  11.,   8.,   9.,  14.,   6.,  17.,\n",
       "         15.,  22.,  15.,  19.,  22.,  15.,  26.,  23.,  25.,  21.,  39.,\n",
       "         34.,  40.,  47.,  32.,  41.,  64.,  55.,  58.,  60.,  48.,  61.,\n",
       "         52.,  76.,  72.,  67.,  80.,  82.,  84.,  90.,  84.,  75.,  91.,\n",
       "         96.,  81.,  99.,  92.,  78.,  98.,  80.,  86., 110., 100.,  92.,\n",
       "         86.,  90.,  87.,  96.,  90.,  94.,  74.,  89.,  80.,  83.,  67.,\n",
       "         60.,  78.,  58.,  66.,  62.,  80.,  71.,  56.,  50.,  60.,  45.,\n",
       "         40.,  53.,  36.,  35.,  46.,  26.,  33.,  24.,  33.,  26.,  31.,\n",
       "         19.,  11.,  16.,  18.,  12.,  15.,  15.,  12.,  17.,   9.,   9.,\n",
       "          7.,   6.,   6.,   5.,   3.,   9.,   2.,   8.,   4.,   2.,   1.,\n",
       "          1.,   1.,   1.,   1.,   0.,   0.,   0.,   2.,   0.,   1.,   1.,\n",
       "          0.,   0.,   0.,   0.,   0.,   0.,   1.]),\n",
       " array([137.82835865, 138.15223324, 138.47610784, 138.79998243,\n",
       "        139.12385703, 139.44773163, 139.77160622, 140.09548082,\n",
       "        140.41935542, 140.74323001, 141.06710461, 141.39097921,\n",
       "        141.7148538 , 142.0387284 , 142.36260299, 142.68647759,\n",
       "        143.01035219, 143.33422678, 143.65810138, 143.98197598,\n",
       "        144.30585057, 144.62972517, 144.95359977, 145.27747436,\n",
       "        145.60134896, 145.92522355, 146.24909815, 146.57297275,\n",
       "        146.89684734, 147.22072194, 147.54459654, 147.86847113,\n",
       "        148.19234573, 148.51622033, 148.84009492, 149.16396952,\n",
       "        149.48784411, 149.81171871, 150.13559331, 150.4594679 ,\n",
       "        150.7833425 , 151.1072171 , 151.43109169, 151.75496629,\n",
       "        152.07884089, 152.40271548, 152.72659008, 153.05046467,\n",
       "        153.37433927, 153.69821387, 154.02208846, 154.34596306,\n",
       "        154.66983766, 154.99371225, 155.31758685, 155.64146145,\n",
       "        155.96533604, 156.28921064, 156.61308523, 156.93695983,\n",
       "        157.26083443, 157.58470902, 157.90858362, 158.23245822,\n",
       "        158.55633281, 158.88020741, 159.20408201, 159.5279566 ,\n",
       "        159.8518312 , 160.17570579, 160.49958039, 160.82345499,\n",
       "        161.14732958, 161.47120418, 161.79507878, 162.11895337,\n",
       "        162.44282797, 162.76670257, 163.09057716, 163.41445176,\n",
       "        163.73832635, 164.06220095, 164.38607555, 164.70995014,\n",
       "        165.03382474, 165.35769934, 165.68157393, 166.00544853,\n",
       "        166.32932313, 166.65319772, 166.97707232, 167.30094691,\n",
       "        167.62482151, 167.94869611, 168.2725707 , 168.5964453 ,\n",
       "        168.9203199 , 169.24419449, 169.56806909, 169.89194369,\n",
       "        170.21581828, 170.53969288, 170.86356747, 171.18744207,\n",
       "        171.51131667, 171.83519126, 172.15906586, 172.48294046,\n",
       "        172.80681505, 173.13068965, 173.45456425, 173.77843884,\n",
       "        174.10231344, 174.42618803, 174.75006263, 175.07393723,\n",
       "        175.39781182, 175.72168642, 176.04556102, 176.36943561,\n",
       "        176.69331021, 177.01718481, 177.3410594 , 177.664934  ,\n",
       "        177.98880859, 178.31268319, 178.63655779, 178.96043238,\n",
       "        179.28430698, 179.60818158, 179.93205617, 180.25593077,\n",
       "        180.57980537, 180.90367996, 181.22755456, 181.55142915,\n",
       "        181.87530375, 182.19917835, 182.52305294, 182.84692754,\n",
       "        183.17080214, 183.49467673, 183.81855133, 184.14242593,\n",
       "        184.46630052, 184.79017512, 185.11404971, 185.43792431,\n",
       "        185.76179891, 186.0856735 , 186.4095481 ]),\n",
       " <BarContainer object of 150 artists>)"
      ]
     },
     "execution_count": 15,
     "metadata": {},
     "output_type": "execute_result"
    },
    {
     "data": {
      "image/png": "[encoded data removed]",
      "text/plain": [
       "<Figure size 640x480 with 1 Axes>"
      ]
     },
     "metadata": {},
     "output_type": "display_data"
    }
   ],
   "source": [
    "plt.hist(dfFemale['Height'], bins=150, edgecolor='black')"
   ]
  },
  {
   "cell_type": "code",
   "execution_count": 16,
   "metadata": {},
   "outputs": [
    {
     "data": {
      "text/plain": [
       "(array([  1.,   0.,   0.,   0.,   1.,   0.,   0.,   1.,   1.,   0.,   0.,\n",
       "          0.,   0.,   1.,   1.,   2.,   0.,   1.,   0.,   2.,   0.,   4.,\n",
       "          2.,   3.,   4.,   1.,   5.,   5.,   7.,   9.,   6.,   8.,   8.,\n",
       "         11.,  15.,  11.,  15.,  17.,  11.,  22.,  23.,  29.,  28.,  24.,\n",
       "         16.,  35.,  30.,  37.,  30.,  43.,  49.,  41.,  50.,  48.,  54.,\n",
       "         44.,  57.,  62.,  59.,  62.,  63.,  68.,  76.,  74.,  76.,  93.,\n",
       "         75.,  88.,  80.,  84.,  94.,  81.,  95.,  92., 106.,  90.,  94.,\n",
       "         85., 100., 111., 104., 101.,  82.,  93.,  91., 101.,  91.,  80.,\n",
       "         90.,  81.,  62.,  70.,  78.,  62.,  81.,  63.,  74.,  56.,  47.,\n",
       "         63.,  55.,  44.,  44.,  38.,  47.,  43.,  52.,  33.,  35.,  31.,\n",
       "         26.,  24.,  27.,  28.,  12.,  13.,  14.,  18.,   9.,  14.,  13.,\n",
       "         12.,   7.,  11.,   9.,   4.,   4.,   6.,   6.,   3.,   4.,   3.,\n",
       "          2.,   2.,   2.,   3.,   1.,   0.,   0.,   4.,   1.,   2.,   1.,\n",
       "          1.,   0.,   0.,   0.,   0.,   0.,   1.]),\n",
       " array([29.34246109, 29.75829507, 30.17412904, 30.58996302, 31.00579699,\n",
       "        31.42163097, 31.83746494, 32.25329891, 32.66913289, 33.08496686,\n",
       "        33.50080084, 33.91663481, 34.33246879, 34.74830276, 35.16413674,\n",
       "        35.57997071, 35.99580468, 36.41163866, 36.82747263, 37.24330661,\n",
       "        37.65914058, 38.07497456, 38.49080853, 38.90664251, 39.32247648,\n",
       "        39.73831045, 40.15414443, 40.5699784 , 40.98581238, 41.40164635,\n",
       "        41.81748033, 42.2333143 , 42.64914827, 43.06498225, 43.48081622,\n",
       "        43.8966502 , 44.31248417, 44.72831815, 45.14415212, 45.5599861 ,\n",
       "        45.97582007, 46.39165404, 46.80748802, 47.22332199, 47.63915597,\n",
       "        48.05498994, 48.47082392, 48.88665789, 49.30249186, 49.71832584,\n",
       "        50.13415981, 50.54999379, 50.96582776, 51.38166174, 51.79749571,\n",
       "        52.21332969, 52.62916366, 53.04499763, 53.46083161, 53.87666558,\n",
       "        54.29249956, 54.70833353, 55.12416751, 55.54000148, 55.95583545,\n",
       "        56.37166943, 56.7875034 , 57.20333738, 57.61917135, 58.03500533,\n",
       "        58.4508393 , 58.86667328, 59.28250725, 59.69834122, 60.1141752 ,\n",
       "        60.53000917, 60.94584315, 61.36167712, 61.7775111 , 62.19334507,\n",
       "        62.60917904, 63.02501302, 63.44084699, 63.85668097, 64.27251494,\n",
       "        64.68834892, 65.10418289, 65.52001687, 65.93585084, 66.35168481,\n",
       "        66.76751879, 67.18335276, 67.59918674, 68.01502071, 68.43085469,\n",
       "        68.84668866, 69.26252263, 69.67835661, 70.09419058, 70.51002456,\n",
       "        70.92585853, 71.34169251, 71.75752648, 72.17336046, 72.58919443,\n",
       "        73.0050284 , 73.42086238, 73.83669635, 74.25253033, 74.6683643 ,\n",
       "        75.08419828, 75.50003225, 75.91586622, 76.3317002 , 76.74753417,\n",
       "        77.16336815, 77.57920212, 77.9950361 , 78.41087007, 78.82670405,\n",
       "        79.24253802, 79.65837199, 80.07420597, 80.49003994, 80.90587392,\n",
       "        81.32170789, 81.73754187, 82.15337584, 82.56920982, 82.98504379,\n",
       "        83.40087776, 83.81671174, 84.23254571, 84.64837969, 85.06421366,\n",
       "        85.48004764, 85.89588161, 86.31171558, 86.72754956, 87.14338353,\n",
       "        87.55921751, 87.97505148, 88.39088546, 88.80671943, 89.22255341,\n",
       "        89.63838738, 90.05422135, 90.47005533, 90.8858893 , 91.30172328,\n",
       "        91.71755725]),\n",
       " <BarContainer object of 150 artists>)"
      ]
     },
     "execution_count": 16,
     "metadata": {},
     "output_type": "execute_result"
    },
    {
     "data": {
      "image/png": "[encoded data removed]",
      "text/plain": [
       "<Figure size 640x480 with 1 Axes>"
      ]
     },
     "metadata": {},
     "output_type": "display_data"
    }
   ],
   "source": [
    "plt.hist(dfFemale['Weight'], bins=150, edgecolor='black')"
   ]
  },
  {
   "cell_type": "code",
   "execution_count": 21,
   "metadata": {},
   "outputs": [
    {
     "data": {
      "image/png": "[encoded data removed]",
      "text/plain": [
       "<Figure size 640x480 with 1 Axes>"
      ]
     },
     "metadata": {},
     "output_type": "display_data"
    }
   ],
   "source": [
    "\n",
    "X = pd.DataFrame({'Height':dfEdited['Height'], 'Weight':dfEdited['Weight']})\n",
    "\n",
    "X = np.array(X, dtype=float)\n",
    "\n",
    "wcss = []\n",
    "for i in range(1, 11):\n",
    "    kmeans = KMeans(n_clusters = i, init = 'k-means++', random_state = 42)\n",
    "    kmeans.fit(X)\n",
    "    wcss.append(kmeans.inertia_)\n",
    "plt.plot(range(1, 11), wcss)\n",
    "plt.title('The Elbow Method')\n",
    "plt.xlabel('Number of clusters')\n",
    "plt.ylabel('WCSS')\n",
    "plt.show()"
   ]
  },
  {
   "cell_type": "code",
   "execution_count": 20,
   "metadata": {},
   "outputs": [
    {
     "name": "stdout",
     "output_type": "stream",
     "text": [
      "[[187.57142322 109.70229623]\n",
      " [174.70603628  73.61019162]\n",
      " [188.2396677   96.48111363]\n",
      " ...\n",
      " [162.22470022  58.2654507 ]\n",
      " [175.34697755  74.30950628]\n",
      " [157.33838453  51.54154316]]\n"
     ]
    }
   ],
   "source": [
    "from sklearn.metrics import rand_score\n",
    "kmeans = KMeans(n_clusters = 2, init = 'k-means++', random_state = 42)\n",
    "y_kmeans = kmeans.fit_predict(X)\n",
    "print(X)"
   ]
  },
  {
   "cell_type": "code",
   "execution_count": 23,
   "metadata": {},
   "outputs": [
    {
     "data": {
      "text/html": [
       "<div>\n",
       "<style scoped>\n",
       "    .dataframe tbody tr th:only-of-type {\n",
       "        vertical-align: middle;\n",
       "    }\n",
       "\n",
       "    .dataframe tbody tr th {\n",
       "        vertical-align: top;\n",
       "    }\n",
       "\n",
       "    .dataframe thead th {\n",
       "        text-align: right;\n",
       "    }\n",
       "</style>\n",
       "<table border=\"1\" class=\"dataframe\">\n",
       "  <thead>\n",
       "    <tr style=\"text-align: right;\">\n",
       "      <th></th>\n",
       "      <th>Gender</th>\n",
       "      <th>Height</th>\n",
       "      <th>Weight</th>\n",
       "      <th>Cluster</th>\n",
       "      <th>True cluster</th>\n",
       "    </tr>\n",
       "  </thead>\n",
       "  <tbody>\n",
       "    <tr>\n",
       "      <th>0</th>\n",
       "      <td>Male</td>\n",
       "      <td>187.571423</td>\n",
       "      <td>109.702296</td>\n",
       "      <td>2</td>\n",
       "      <td>2</td>\n",
       "    </tr>\n",
       "    <tr>\n",
       "      <th>1</th>\n",
       "      <td>Male</td>\n",
       "      <td>174.706036</td>\n",
       "      <td>73.610192</td>\n",
       "      <td>2</td>\n",
       "      <td>2</td>\n",
       "    </tr>\n",
       "    <tr>\n",
       "      <th>2</th>\n",
       "      <td>Male</td>\n",
       "      <td>188.239668</td>\n",
       "      <td>96.481114</td>\n",
       "      <td>2</td>\n",
       "      <td>2</td>\n",
       "    </tr>\n",
       "    <tr>\n",
       "      <th>3</th>\n",
       "      <td>Male</td>\n",
       "      <td>182.196685</td>\n",
       "      <td>99.792504</td>\n",
       "      <td>2</td>\n",
       "      <td>2</td>\n",
       "    </tr>\n",
       "    <tr>\n",
       "      <th>4</th>\n",
       "      <td>Male</td>\n",
       "      <td>177.499761</td>\n",
       "      <td>93.582676</td>\n",
       "      <td>2</td>\n",
       "      <td>2</td>\n",
       "    </tr>\n",
       "  </tbody>\n",
       "</table>\n",
       "</div>"
      ],
      "text/plain": [
       "  Gender      Height      Weight  Cluster  True cluster\n",
       "0   Male  187.571423  109.702296        2             2\n",
       "1   Male  174.706036   73.610192        2             2\n",
       "2   Male  188.239668   96.481114        2             2\n",
       "3   Male  182.196685   99.792504        2             2\n",
       "4   Male  177.499761   93.582676        2             2"
      ]
     },
     "execution_count": 23,
     "metadata": {},
     "output_type": "execute_result"
    }
   ],
   "source": [
    "df2 = dfEdited\n",
    "y_kmeans_list = list(y_kmeans)\n",
    "\n",
    "for i in range(len(y_kmeans_list)):\n",
    "    y_kmeans_list[i] += 1\n",
    "\n",
    "tmp = list(df.iloc[:, 2].values)\n",
    "k = 0\n",
    "clusters = []\n",
    "\n",
    "for i in range(len(tmp)):\n",
    "    clusters.append(y_kmeans_list[k])\n",
    "    k += 1\n",
    "\n",
    "true_clusters = []\n",
    "genders = list(df2['Gender'])\n",
    "\n",
    "for i in range(len(genders)):\n",
    "    if genders[i] == 'Male':\n",
    "        true_clusters.append(2)\n",
    "    else:\n",
    "        true_clusters.append(1)\n",
    "\n",
    "df2['Cluster'] = clusters\n",
    "df2['True cluster'] = true_clusters\n",
    "df2.to_excel('cluster.xlsx')\n",
    "df2.head()"
   ]
  }
 ],
 "metadata": {
  "kernelspec": {
   "display_name": "Python 3.11.0 64-bit",
   "language": "python",
   "name": "python3"
  },
  "language_info": {
   "codemirror_mode": {
    "name": "ipython",
    "version": 3
   },
   "file_extension": ".py",
   "mimetype": "text/x-python",
   "name": "python",
   "nbconvert_exporter": "python",
   "pygments_lexer": "ipython3",
   "version": "3.11.0"
  },
  "orig_nbformat": 4,
  "vscode": {
   "interpreter": {
    "hash": "e76670f237afc8b49c25a56a94462e1548698cecbdd045df051619cbc7f75ed9"
   }
  }
 },
 "nbformat": 4,
 "nbformat_minor": 2
}
